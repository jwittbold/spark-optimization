{
 "cells": [
  {
   "cell_type": "markdown",
   "id": "6b831957",
   "metadata": {},
   "source": [
    "### Instructions:\n",
    "Optimize the query plan\n",
    "\n",
    "Suppose we want to compose query in which we get for each question also the number of answers to this question for each month. \n",
    "\n",
    "See the query below which does that in a suboptimal way and try to rewrite it to achieve a more optimal plan.\n"
   ]
  },
  {
   "cell_type": "code",
   "execution_count": 2,
   "id": "e800d1f8",
   "metadata": {},
   "outputs": [],
   "source": [
    "import pyspark\n",
    "from pyspark.sql import SparkSession\n",
    "from pyspark.sql.functions import col, count, month\n",
    "import os\n",
    "\n",
    "# build Spark object\n",
    "spark = SparkSession \\\n",
    "    .builder \\\n",
    "    .master('local[*]') \\\n",
    "    .appName('Optimize Spark Query') \\\n",
    "    .getOrCreate()"
   ]
  },
  {
   "cell_type": "code",
   "execution_count": 3,
   "id": "74af90d0",
   "metadata": {},
   "outputs": [
    {
     "data": {
      "text/html": [
       "\n",
       "            <div>\n",
       "                <p><b>SparkSession - in-memory</b></p>\n",
       "                \n",
       "        <div>\n",
       "            <p><b>SparkContext</b></p>\n",
       "\n",
       "            <p><a href=\"http://192.168.88.20:4040\">Spark UI</a></p>\n",
       "\n",
       "            <dl>\n",
       "              <dt>Version</dt>\n",
       "                <dd><code>v3.1.2</code></dd>\n",
       "              <dt>Master</dt>\n",
       "                <dd><code>local[*]</code></dd>\n",
       "              <dt>AppName</dt>\n",
       "                <dd><code>Optimize Spark Query</code></dd>\n",
       "            </dl>\n",
       "        </div>\n",
       "        \n",
       "            </div>\n",
       "        "
      ],
      "text/plain": [
       "<pyspark.sql.session.SparkSession at 0x7ffe805dbe50>"
      ]
     },
     "execution_count": 3,
     "metadata": {},
     "output_type": "execute_result"
    }
   ],
   "source": [
    "spark"
   ]
  },
  {
   "cell_type": "markdown",
   "id": "6e957521",
   "metadata": {},
   "source": [
    "### Create answersDF DataFrame"
   ]
  },
  {
   "cell_type": "code",
   "execution_count": 4,
   "id": "7e73bd4d",
   "metadata": {},
   "outputs": [
    {
     "name": "stdout",
     "output_type": "stream",
     "text": [
      "+-----------+---------+--------------------+--------+-------+-----+\n",
      "|question_id|answer_id|       creation_date|comments|user_id|score|\n",
      "+-----------+---------+--------------------+--------+-------+-----+\n",
      "|     226592|   226595|2015-12-30 07:46:...|       3|  82798|    2|\n",
      "|     388057|   388062|2018-02-23 02:52:...|       8|    520|   21|\n",
      "|     293286|   293305|2016-11-18 05:35:...|       0|  47472|    2|\n",
      "|     442499|   442503|2018-11-22 14:34:...|       0| 137289|    0|\n",
      "|     293009|   293031|2016-11-16 21:36:...|       0|  83721|    0|\n",
      "|     395532|   395537|2018-03-25 13:51:...|       0|   1325|    0|\n",
      "|     329826|   329843|2017-04-29 23:42:...|       4|    520|    1|\n",
      "|     294710|   295061|2016-11-27 09:29:...|       2| 114696|    2|\n",
      "|     291910|   291917|2016-11-10 18:56:...|       0| 114696|    2|\n",
      "|     372382|   372394|2017-12-04 10:17:...|       0| 172328|    0|\n",
      "|     178387|   178394|2015-04-26 01:31:...|       6|  62726|    0|\n",
      "|     393947|   393948|2018-03-18 06:22:...|       0| 165299|    9|\n",
      "|     432001|   432696|2018-10-05 16:47:...|       1| 102218|    0|\n",
      "|     322740|   322746|2017-04-01 02:10:...|       0|    392|    0|\n",
      "|     397003|   397008|2018-04-01 19:31:...|       1| 189394|    6|\n",
      "|     223572|   223628|2015-12-12 13:40:...|       0|  94772|   -1|\n",
      "|     220328|   220331|2015-11-24 23:57:...|       3|  92883|    1|\n",
      "|     176400|   176491|2015-04-16 21:13:...|       0|  40330|    0|\n",
      "|     265167|   265179|2016-06-28 19:58:...|       0|  46790|    0|\n",
      "|     309103|   309105|2017-02-02 01:00:...|       2|  89597|    2|\n",
      "+-----------+---------+--------------------+--------+-------+-----+\n",
      "only showing top 20 rows\n",
      "\n",
      "110714\n"
     ]
    }
   ],
   "source": [
    "# set path to answers on HDFS\n",
    "answers_input_path = 'data/answers'\n",
    "answersDF = spark.read.parquet(answers_input_path)\n",
    "answersDF.show()\n",
    "answersDF.count() # count number of rows in DF"
   ]
  },
  {
   "cell_type": "markdown",
   "id": "ef67d24e",
   "metadata": {},
   "source": [
    "### Show number of partitions for answersDF"
   ]
  },
  {
   "cell_type": "code",
   "execution_count": 5,
   "id": "b6bf1145",
   "metadata": {},
   "outputs": [
    {
     "data": {
      "text/plain": [
       "4"
      ]
     },
     "execution_count": 5,
     "metadata": {},
     "output_type": "execute_result"
    }
   ],
   "source": [
    "answersDF.rdd.getNumPartitions()"
   ]
  },
  {
   "cell_type": "markdown",
   "id": "934d0f0b",
   "metadata": {},
   "source": [
    "### Create questionsDF DataFrame"
   ]
  },
  {
   "cell_type": "code",
   "execution_count": 6,
   "id": "cbea8415",
   "metadata": {
    "scrolled": false
   },
   "outputs": [
    {
     "name": "stdout",
     "output_type": "stream",
     "text": [
      "+-----------+--------------------+--------------------+--------------------+------------------+--------+-------+-----+\n",
      "|question_id|                tags|       creation_date|               title|accepted_answer_id|comments|user_id|views|\n",
      "+-----------+--------------------+--------------------+--------------------+------------------+--------+-------+-----+\n",
      "|     382738|[optics, waves, f...|2018-01-28 15:22:...|What is the pseud...|            382772|       0|  76347|   32|\n",
      "|     370717|[field-theory, de...|2017-11-25 17:09:...|What is the defin...|              null|       1|  75085|   82|\n",
      "|     339944|[general-relativi...|2017-06-18 04:32:...|Could gravitation...|              null|      13| 116137|  333|\n",
      "|     233852|[homework-and-exe...|2016-02-05 05:19:...|When does travell...|              null|       9|  95831|  185|\n",
      "|     294165|[quantum-mechanic...|2016-11-22 19:39:...|Time-dependent qu...|              null|       1| 118807|   56|\n",
      "|     173819|[homework-and-exe...|2015-04-02 23:56:...|Finding Magnetic ...|              null|       5|  76767| 3709|\n",
      "|     265198|    [thermodynamics]|2016-06-28 22:56:...|Physical meaning ...|              null|       2|  65035| 1211|\n",
      "|     175015|[quantum-mechanic...|2015-04-09 09:24:...|Understanding a m...|              null|       1|  76155|  326|\n",
      "|     413973|[quantum-mechanic...|2018-06-27 21:29:...|Incorporate spino...|              null|       3| 167682|   81|\n",
      "|     303670|[quantum-field-th...|2017-01-08 14:05:...|A Wilson line pro...|              null|       0| 101968|  184|\n",
      "|     317368|[general-relativi...|2017-03-09 03:53:...|Shouldn't Torsion...|              null|       0|  20427|  305|\n",
      "|     369982|[quantum-mechanic...|2017-11-21 11:11:...|Incompressible in...|              null|       4| 124864|   83|\n",
      "|     239745|[quantum-mechanic...|2016-02-25 16:51:...|Is this correct? ...|            239773|       2|  89821|   78|\n",
      "|     412294|[quantum-mechanic...|2018-06-18 08:46:...|Is electron/photo...|              null|       0|    605|   61|\n",
      "|     437521|[thermodynamics, ...|2018-10-29 14:49:...|Distance Dependen...|              null|       2| 211152|   19|\n",
      "|     289701|[quantum-field-th...|2016-10-30 11:56:...|Generalize QFT wi...|              null|       4|  31922|   49|\n",
      "|     239505|[definition, stab...|2016-02-24 18:51:...|conditions for so...|              null|       3| 102021|  121|\n",
      "|     300744|[electromagnetism...|2016-12-25 02:14:...|Maxwell equations...|            300749|       0| 112190|  171|\n",
      "|     217315|[nuclear-physics,...|2015-11-08 17:13:...|Is the direction ...|              null|       1|  60150| 1749|\n",
      "|     334778|[cosmology, cosmo...|2017-05-22 21:58:...|Why are fluctatio...|            334791|       3| 109312|  110|\n",
      "+-----------+--------------------+--------------------+--------------------+------------------+--------+-------+-----+\n",
      "only showing top 20 rows\n",
      "\n",
      "86936\n"
     ]
    }
   ],
   "source": [
    "# set path to questions on HDFS\n",
    "questions_input_path = 'data/questions'\n",
    "questionsDF = spark.read.parquet(questions_input_path)\n",
    "questionsDF.show()\n",
    "questionsDF.count()  # count number of rows in DF"
   ]
  },
  {
   "cell_type": "markdown",
   "id": "5afe9ea6",
   "metadata": {},
   "source": [
    "### Show number of partitions for questionsDF"
   ]
  },
  {
   "cell_type": "code",
   "execution_count": 7,
   "id": "6e90e847",
   "metadata": {},
   "outputs": [
    {
     "data": {
      "text/plain": [
       "4"
      ]
     },
     "execution_count": 7,
     "metadata": {},
     "output_type": "execute_result"
    }
   ],
   "source": [
    "questionsDF.rdd.getNumPartitions()"
   ]
  },
  {
   "cell_type": "markdown",
   "id": "874c9be9",
   "metadata": {},
   "source": [
    "### The original query to be optimized:"
   ]
  },
  {
   "cell_type": "code",
   "execution_count": 8,
   "id": "63a3616d",
   "metadata": {
    "scrolled": false
   },
   "outputs": [
    {
     "name": "stdout",
     "output_type": "stream",
     "text": [
      "+-----------+--------------------+--------------------+-----+---+\n",
      "|question_id|       creation_date|               title|month|cnt|\n",
      "+-----------+--------------------+--------------------+-----+---+\n",
      "|     155989|2015-01-01 09:59:...|Frost bubble form...|    1|  1|\n",
      "|     155989|2015-01-01 09:59:...|Frost bubble form...|    2|  1|\n",
      "|     155990|2015-01-01 10:51:...|The abstract spac...|    1|  2|\n",
      "|     155992|2015-01-01 11:44:...|centrifugal force...|    1|  1|\n",
      "|     155993|2015-01-01 11:56:...|How can I estimat...|    1|  1|\n",
      "|     155995|2015-01-01 13:16:...|Why should a solu...|    1|  3|\n",
      "|     155996|2015-01-01 14:06:...|Why do we assume ...|    1|  2|\n",
      "|     155996|2015-01-01 14:06:...|Why do we assume ...|    2|  1|\n",
      "|     155996|2015-01-01 14:06:...|Why do we assume ...|   11|  1|\n",
      "|     155997|2015-01-01 14:26:...|Why do square sha...|    1|  3|\n",
      "|     155999|2015-01-01 15:01:...|Diagonalizability...|    1|  1|\n",
      "|     156008|2015-01-01 16:48:...|Capturing a light...|    1|  2|\n",
      "|     156008|2015-01-01 16:48:...|Capturing a light...|   11|  1|\n",
      "|     156016|2015-01-01 18:31:...|The interference ...|    1|  1|\n",
      "|     156020|2015-01-01 19:19:...|What is going on ...|    1|  1|\n",
      "|     156021|2015-01-01 19:21:...|How to calculate ...|    2|  1|\n",
      "|     156022|2015-01-01 19:55:...|Advice on Major S...|    1|  1|\n",
      "|     156025|2015-01-01 20:32:...|Deriving the Cano...|    1|  1|\n",
      "|     156026|2015-01-01 20:49:...|Does Bell's inequ...|    1|  3|\n",
      "|     156027|2015-01-01 20:49:...|Deriving X atom f...|    1|  1|\n",
      "+-----------+--------------------+--------------------+-----+---+\n",
      "only showing top 20 rows\n",
      "\n",
      "73027\n",
      "== Physical Plan ==\n",
      "*(3) Project [question_id#48L, creation_date#50, title#51, month#118, cnt#134L]\n",
      "+- *(3) BroadcastHashJoin [question_id#48L], [question_id#0L], Inner, BuildRight, false\n",
      "   :- *(3) Filter isnotnull(question_id#48L)\n",
      "   :  +- *(3) ColumnarToRow\n",
      "   :     +- FileScan parquet [question_id#48L,creation_date#50,title#51] Batched: true, DataFilters: [isnotnull(question_id#48L)], Format: Parquet, Location: InMemoryFileIndex[hdfs://localhost:9000/user/jackwittbold/data/questions], PartitionFilters: [], PushedFilters: [IsNotNull(question_id)], ReadSchema: struct<question_id:bigint,creation_date:timestamp,title:string>\n",
      "   +- BroadcastExchange HashedRelationBroadcastMode(List(input[0, bigint, true]),false), [id=#310]\n",
      "      +- *(2) HashAggregate(keys=[question_id#0L, month#118], functions=[count(1)])\n",
      "         +- Exchange hashpartitioning(question_id#0L, month#118, 200), ENSURE_REQUIREMENTS, [id=#306]\n",
      "            +- *(1) HashAggregate(keys=[question_id#0L, month#118], functions=[partial_count(1)])\n",
      "               +- *(1) Project [question_id#0L, month(cast(creation_date#2 as date)) AS month#118]\n",
      "                  +- *(1) Filter isnotnull(question_id#0L)\n",
      "                     +- *(1) ColumnarToRow\n",
      "                        +- FileScan parquet [question_id#0L,creation_date#2] Batched: true, DataFilters: [isnotnull(question_id#0L)], Format: Parquet, Location: InMemoryFileIndex[hdfs://localhost:9000/user/jackwittbold/data/answers], PartitionFilters: [], PushedFilters: [IsNotNull(question_id)], ReadSchema: struct<question_id:bigint,creation_date:timestamp>\n",
      "\n",
      "\n"
     ]
    }
   ],
   "source": [
    "'''\n",
    "Answers aggregation\n",
    "\n",
    "Here we get number of answers per question per month\n",
    "'''\n",
    "\n",
    "answers_month = answersDF.withColumn('month', month('creation_date')).groupBy('question_id', 'month').agg(count('*').alias('cnt'))\n",
    "\n",
    "\n",
    "resultDF = questionsDF.join(answers_month, 'question_id').select('question_id', 'creation_date', 'title', 'month', 'cnt')\n",
    "\n",
    "resultDF.orderBy('question_id', 'month').show()\n",
    "resultDF.count()\n",
    "\n",
    "resultDF.explain()"
   ]
  },
  {
   "cell_type": "markdown",
   "id": "2d8782b9",
   "metadata": {},
   "source": [
    "### Spark defaults to 200 partitions when performing a join operation on two DataFrames. \n",
    "This is made apparent when calling .getNumPartitions() on the newly created DataFrame 'answers_month'"
   ]
  },
  {
   "cell_type": "code",
   "execution_count": 9,
   "id": "7294689f",
   "metadata": {},
   "outputs": [
    {
     "data": {
      "text/plain": [
       "200"
      ]
     },
     "execution_count": 9,
     "metadata": {},
     "output_type": "execute_result"
    }
   ],
   "source": [
    "answers_month.rdd.getNumPartitions()"
   ]
  },
  {
   "cell_type": "markdown",
   "id": "c5cc9f03",
   "metadata": {},
   "source": [
    "### In order to optimize the query, we can reduce the number of shuffles by using the .coalesce() function and setting the number of partitions to 4 in order to match the number of partitions in the original DataFrames. "
   ]
  },
  {
   "cell_type": "code",
   "execution_count": 10,
   "id": "3f77226b",
   "metadata": {},
   "outputs": [
    {
     "name": "stdout",
     "output_type": "stream",
     "text": [
      "+-----------+--------------------+--------------------+-----+---+\n",
      "|question_id|       creation_date|               title|month|cnt|\n",
      "+-----------+--------------------+--------------------+-----+---+\n",
      "|     155989|2015-01-01 09:59:...|Frost bubble form...|    1|  1|\n",
      "|     155989|2015-01-01 09:59:...|Frost bubble form...|    2|  1|\n",
      "|     155990|2015-01-01 10:51:...|The abstract spac...|    1|  2|\n",
      "|     155992|2015-01-01 11:44:...|centrifugal force...|    1|  1|\n",
      "|     155993|2015-01-01 11:56:...|How can I estimat...|    1|  1|\n",
      "|     155995|2015-01-01 13:16:...|Why should a solu...|    1|  3|\n",
      "|     155996|2015-01-01 14:06:...|Why do we assume ...|    1|  2|\n",
      "|     155996|2015-01-01 14:06:...|Why do we assume ...|    2|  1|\n",
      "|     155996|2015-01-01 14:06:...|Why do we assume ...|   11|  1|\n",
      "|     155997|2015-01-01 14:26:...|Why do square sha...|    1|  3|\n",
      "|     155999|2015-01-01 15:01:...|Diagonalizability...|    1|  1|\n",
      "|     156008|2015-01-01 16:48:...|Capturing a light...|    1|  2|\n",
      "|     156008|2015-01-01 16:48:...|Capturing a light...|   11|  1|\n",
      "|     156016|2015-01-01 18:31:...|The interference ...|    1|  1|\n",
      "|     156020|2015-01-01 19:19:...|What is going on ...|    1|  1|\n",
      "|     156021|2015-01-01 19:21:...|How to calculate ...|    2|  1|\n",
      "|     156022|2015-01-01 19:55:...|Advice on Major S...|    1|  1|\n",
      "|     156025|2015-01-01 20:32:...|Deriving the Cano...|    1|  1|\n",
      "|     156026|2015-01-01 20:49:...|Does Bell's inequ...|    1|  3|\n",
      "|     156027|2015-01-01 20:49:...|Deriving X atom f...|    1|  1|\n",
      "+-----------+--------------------+--------------------+-----+---+\n",
      "only showing top 20 rows\n",
      "\n",
      "73027\n",
      "== Physical Plan ==\n",
      "*(3) Project [question_id#48L, creation_date#50, title#51, month#186, cnt#202L]\n",
      "+- *(3) BroadcastHashJoin [question_id#48L], [question_id#0L], Inner, BuildRight, false\n",
      "   :- *(3) Filter isnotnull(question_id#48L)\n",
      "   :  +- *(3) ColumnarToRow\n",
      "   :     +- FileScan parquet [question_id#48L,creation_date#50,title#51] Batched: true, DataFilters: [isnotnull(question_id#48L)], Format: Parquet, Location: InMemoryFileIndex[hdfs://localhost:9000/user/jackwittbold/data/questions], PartitionFilters: [], PushedFilters: [IsNotNull(question_id)], ReadSchema: struct<question_id:bigint,creation_date:timestamp,title:string>\n",
      "   +- BroadcastExchange HashedRelationBroadcastMode(List(input[0, bigint, true]),false), [id=#588]\n",
      "      +- Coalesce 4\n",
      "         +- *(2) HashAggregate(keys=[question_id#0L, month#186], functions=[count(1)])\n",
      "            +- Exchange hashpartitioning(question_id#0L, month#186, 200), ENSURE_REQUIREMENTS, [id=#583]\n",
      "               +- *(1) HashAggregate(keys=[question_id#0L, month#186], functions=[partial_count(1)])\n",
      "                  +- *(1) Project [question_id#0L, month(cast(creation_date#2 as date)) AS month#186]\n",
      "                     +- *(1) Filter isnotnull(question_id#0L)\n",
      "                        +- *(1) ColumnarToRow\n",
      "                           +- FileScan parquet [question_id#0L,creation_date#2] Batched: true, DataFilters: [isnotnull(question_id#0L)], Format: Parquet, Location: InMemoryFileIndex[hdfs://localhost:9000/user/jackwittbold/data/answers], PartitionFilters: [], PushedFilters: [IsNotNull(question_id)], ReadSchema: struct<question_id:bigint,creation_date:timestamp>\n",
      "\n",
      "\n"
     ]
    }
   ],
   "source": [
    "'''\n",
    "Task: see the query plan of the previous result and rewrite the query to optimize it\n",
    "'''\n",
    "\n",
    "answers_month = answersDF.withColumn('month', month('creation_date')).groupBy('question_id', 'month').agg(count('*').alias('cnt'))\n",
    "\n",
    "# Use .coalesce() method to reduce number of partitions to 4\n",
    "answers_month = answers_month.coalesce(4)\n",
    "\n",
    "resultDF = questionsDF.join(answers_month, 'question_id').select('question_id', 'creation_date', 'title', 'month', 'cnt')\n",
    "\n",
    "resultDF.orderBy('question_id', 'month').show()\n",
    "resultDF.count()\n",
    "\n",
    "resultDF.explain()\n"
   ]
  },
  {
   "cell_type": "markdown",
   "id": "c5badbef",
   "metadata": {},
   "source": [
    "### The number of partitions has been reduced to 4"
   ]
  },
  {
   "cell_type": "code",
   "execution_count": 11,
   "id": "f569c203",
   "metadata": {},
   "outputs": [
    {
     "data": {
      "text/plain": [
       "4"
      ]
     },
     "execution_count": 11,
     "metadata": {},
     "output_type": "execute_result"
    }
   ],
   "source": [
    "answers_month.rdd.getNumPartitions()"
   ]
  }
 ],
 "metadata": {
  "kernelspec": {
   "display_name": "Python 3",
   "language": "python",
   "name": "python3"
  },
  "language_info": {
   "codemirror_mode": {
    "name": "ipython",
    "version": 3
   },
   "file_extension": ".py",
   "mimetype": "text/x-python",
   "name": "python",
   "nbconvert_exporter": "python",
   "pygments_lexer": "ipython3",
   "version": "3.9.1"
  }
 },
 "nbformat": 4,
 "nbformat_minor": 5
}
